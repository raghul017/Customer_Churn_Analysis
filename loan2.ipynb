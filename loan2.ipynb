{
 "cells": [
  {
   "cell_type": "code",
   "execution_count": 107,
   "metadata": {},
   "outputs": [],
   "source": [
    "import pandas as pd\n",
    "import numpy as np\n",
    "import seaborn as sns\n",
    "import matplotlib.pyplot as plt"
   ]
  },
  {
   "cell_type": "code",
   "execution_count": 108,
   "metadata": {},
   "outputs": [
    {
     "data": {
      "text/html": [
       "<div>\n",
       "<style scoped>\n",
       "    .dataframe tbody tr th:only-of-type {\n",
       "        vertical-align: middle;\n",
       "    }\n",
       "\n",
       "    .dataframe tbody tr th {\n",
       "        vertical-align: top;\n",
       "    }\n",
       "\n",
       "    .dataframe thead th {\n",
       "        text-align: right;\n",
       "    }\n",
       "</style>\n",
       "<table border=\"1\" class=\"dataframe\">\n",
       "  <thead>\n",
       "    <tr style=\"text-align: right;\">\n",
       "      <th></th>\n",
       "      <th>Customer ID</th>\n",
       "      <th>Name</th>\n",
       "      <th>Gender</th>\n",
       "      <th>Age</th>\n",
       "      <th>Income (USD)</th>\n",
       "      <th>Income Stability</th>\n",
       "      <th>Profession</th>\n",
       "      <th>Type of Employment</th>\n",
       "      <th>Location</th>\n",
       "      <th>Loan Amount Request (USD)</th>\n",
       "      <th>...</th>\n",
       "      <th>Credit Score</th>\n",
       "      <th>No. of Defaults</th>\n",
       "      <th>Has Active Credit Card</th>\n",
       "      <th>Property ID</th>\n",
       "      <th>Property Age</th>\n",
       "      <th>Property Type</th>\n",
       "      <th>Property Location</th>\n",
       "      <th>Co-Applicant</th>\n",
       "      <th>Property Price</th>\n",
       "      <th>Loan Sanction Amount (USD)</th>\n",
       "    </tr>\n",
       "  </thead>\n",
       "  <tbody>\n",
       "    <tr>\n",
       "      <th>0</th>\n",
       "      <td>C-36995</td>\n",
       "      <td>Frederica Shealy</td>\n",
       "      <td>F</td>\n",
       "      <td>56</td>\n",
       "      <td>1933.05</td>\n",
       "      <td>Low</td>\n",
       "      <td>Working</td>\n",
       "      <td>Sales staff</td>\n",
       "      <td>Semi-Urban</td>\n",
       "      <td>72809.58</td>\n",
       "      <td>...</td>\n",
       "      <td>809.44</td>\n",
       "      <td>0</td>\n",
       "      <td>NaN</td>\n",
       "      <td>746</td>\n",
       "      <td>1933.05</td>\n",
       "      <td>4</td>\n",
       "      <td>Rural</td>\n",
       "      <td>1</td>\n",
       "      <td>119933.46</td>\n",
       "      <td>54607.18</td>\n",
       "    </tr>\n",
       "    <tr>\n",
       "      <th>1</th>\n",
       "      <td>C-33999</td>\n",
       "      <td>America Calderone</td>\n",
       "      <td>M</td>\n",
       "      <td>32</td>\n",
       "      <td>4952.91</td>\n",
       "      <td>Low</td>\n",
       "      <td>Working</td>\n",
       "      <td>NaN</td>\n",
       "      <td>Semi-Urban</td>\n",
       "      <td>46837.47</td>\n",
       "      <td>...</td>\n",
       "      <td>780.40</td>\n",
       "      <td>0</td>\n",
       "      <td>Unpossessed</td>\n",
       "      <td>608</td>\n",
       "      <td>4952.91</td>\n",
       "      <td>2</td>\n",
       "      <td>Rural</td>\n",
       "      <td>1</td>\n",
       "      <td>54791.00</td>\n",
       "      <td>37469.98</td>\n",
       "    </tr>\n",
       "    <tr>\n",
       "      <th>2</th>\n",
       "      <td>C-3770</td>\n",
       "      <td>Rosetta Verne</td>\n",
       "      <td>F</td>\n",
       "      <td>65</td>\n",
       "      <td>988.19</td>\n",
       "      <td>High</td>\n",
       "      <td>Pensioner</td>\n",
       "      <td>NaN</td>\n",
       "      <td>Semi-Urban</td>\n",
       "      <td>45593.04</td>\n",
       "      <td>...</td>\n",
       "      <td>833.15</td>\n",
       "      <td>0</td>\n",
       "      <td>Unpossessed</td>\n",
       "      <td>546</td>\n",
       "      <td>988.19</td>\n",
       "      <td>2</td>\n",
       "      <td>Urban</td>\n",
       "      <td>0</td>\n",
       "      <td>72440.58</td>\n",
       "      <td>36474.43</td>\n",
       "    </tr>\n",
       "    <tr>\n",
       "      <th>3</th>\n",
       "      <td>C-26480</td>\n",
       "      <td>Zoe Chitty</td>\n",
       "      <td>F</td>\n",
       "      <td>65</td>\n",
       "      <td>NaN</td>\n",
       "      <td>High</td>\n",
       "      <td>Pensioner</td>\n",
       "      <td>NaN</td>\n",
       "      <td>Rural</td>\n",
       "      <td>80057.92</td>\n",
       "      <td>...</td>\n",
       "      <td>832.70</td>\n",
       "      <td>1</td>\n",
       "      <td>Unpossessed</td>\n",
       "      <td>890</td>\n",
       "      <td>NaN</td>\n",
       "      <td>2</td>\n",
       "      <td>Semi-Urban</td>\n",
       "      <td>1</td>\n",
       "      <td>121441.51</td>\n",
       "      <td>56040.54</td>\n",
       "    </tr>\n",
       "    <tr>\n",
       "      <th>4</th>\n",
       "      <td>C-23459</td>\n",
       "      <td>Afton Venema</td>\n",
       "      <td>F</td>\n",
       "      <td>31</td>\n",
       "      <td>2614.77</td>\n",
       "      <td>Low</td>\n",
       "      <td>Working</td>\n",
       "      <td>High skill tech staff</td>\n",
       "      <td>Semi-Urban</td>\n",
       "      <td>113858.89</td>\n",
       "      <td>...</td>\n",
       "      <td>745.55</td>\n",
       "      <td>1</td>\n",
       "      <td>Active</td>\n",
       "      <td>715</td>\n",
       "      <td>2614.77</td>\n",
       "      <td>4</td>\n",
       "      <td>Semi-Urban</td>\n",
       "      <td>1</td>\n",
       "      <td>208567.91</td>\n",
       "      <td>74008.28</td>\n",
       "    </tr>\n",
       "  </tbody>\n",
       "</table>\n",
       "<p>5 rows × 24 columns</p>\n",
       "</div>"
      ],
      "text/plain": [
       "  Customer ID               Name Gender  Age  Income (USD) Income Stability  \\\n",
       "0     C-36995   Frederica Shealy      F   56       1933.05              Low   \n",
       "1     C-33999  America Calderone      M   32       4952.91              Low   \n",
       "2      C-3770      Rosetta Verne      F   65        988.19             High   \n",
       "3     C-26480         Zoe Chitty      F   65           NaN             High   \n",
       "4     C-23459       Afton Venema      F   31       2614.77              Low   \n",
       "\n",
       "  Profession     Type of Employment    Location  Loan Amount Request (USD)  \\\n",
       "0    Working            Sales staff  Semi-Urban                   72809.58   \n",
       "1    Working                    NaN  Semi-Urban                   46837.47   \n",
       "2  Pensioner                    NaN  Semi-Urban                   45593.04   \n",
       "3  Pensioner                    NaN       Rural                   80057.92   \n",
       "4    Working  High skill tech staff  Semi-Urban                  113858.89   \n",
       "\n",
       "   ...  Credit Score No. of Defaults Has Active Credit Card  Property ID  \\\n",
       "0  ...        809.44               0                    NaN          746   \n",
       "1  ...        780.40               0            Unpossessed          608   \n",
       "2  ...        833.15               0            Unpossessed          546   \n",
       "3  ...        832.70               1            Unpossessed          890   \n",
       "4  ...        745.55               1                 Active          715   \n",
       "\n",
       "   Property Age  Property Type Property Location  Co-Applicant  \\\n",
       "0       1933.05              4             Rural             1   \n",
       "1       4952.91              2             Rural             1   \n",
       "2        988.19              2             Urban             0   \n",
       "3           NaN              2        Semi-Urban             1   \n",
       "4       2614.77              4        Semi-Urban             1   \n",
       "\n",
       "   Property Price  Loan Sanction Amount (USD)  \n",
       "0       119933.46                    54607.18  \n",
       "1        54791.00                    37469.98  \n",
       "2        72440.58                    36474.43  \n",
       "3       121441.51                    56040.54  \n",
       "4       208567.91                    74008.28  \n",
       "\n",
       "[5 rows x 24 columns]"
      ]
     },
     "execution_count": 108,
     "metadata": {},
     "output_type": "execute_result"
    }
   ],
   "source": [
    "df=pd.read_csv(\"Loan2.csv\")\n",
    "df.head()"
   ]
  },
  {
   "cell_type": "code",
   "execution_count": 109,
   "metadata": {},
   "outputs": [
    {
     "data": {
      "text/plain": [
       "(30000, 24)"
      ]
     },
     "execution_count": 109,
     "metadata": {},
     "output_type": "execute_result"
    }
   ],
   "source": [
    "df.shape"
   ]
  },
  {
   "cell_type": "code",
   "execution_count": 142,
   "metadata": {},
   "outputs": [
    {
     "name": "stdout",
     "output_type": "stream",
     "text": [
      "Customer ID                    0\n",
      "Name                           0\n",
      "Gender                         0\n",
      "Age                            0\n",
      "Income (USD)                   0\n",
      "Income Stability               0\n",
      "Profession                     0\n",
      "Type of Employment             0\n",
      "Location                       0\n",
      "Loan Amount Request (USD)      0\n",
      "Current Loan Expenses (USD)    0\n",
      "Dependents                     0\n",
      "Credit Score                   0\n",
      "No. of Defaults                0\n",
      "Has Active Credit Card         0\n",
      "Property ID                    0\n",
      "Property Type                  0\n",
      "Property Location              0\n",
      "Co-Applicant                   0\n",
      "Property Price (USD)           0\n",
      "Loan Sanction Amount (USD)     0\n",
      "dtype: int64\n"
     ]
    }
   ],
   "source": [
    "null_values = df.isnull().sum()\n",
    "print(null_values)"
   ]
  },
  {
   "cell_type": "code",
   "execution_count": 111,
   "metadata": {},
   "outputs": [
    {
     "name": "stdout",
     "output_type": "stream",
     "text": [
      "Empty DataFrame\n",
      "Columns: [Customer ID, Name, Gender, Age, Income (USD), Income Stability, Profession, Type of Employment, Location, Loan Amount Request (USD), Current Loan Expenses (USD), Expense Type 1, Expense Type 2, Dependents, Credit Score, No. of Defaults, Has Active Credit Card, Property ID, Property Age, Property Type, Property Location, Co-Applicant, Property Price, Loan Sanction Amount (USD)]\n",
      "Index: []\n",
      "\n",
      "[0 rows x 24 columns]\n"
     ]
    }
   ],
   "source": [
    "duplicates = df[df.duplicated(subset=['Customer ID'], keep=False)]\n",
    "print(duplicates)"
   ]
  },
  {
   "cell_type": "code",
   "execution_count": 112,
   "metadata": {},
   "outputs": [],
   "source": [
    "df['Gender'] = df['Gender'].fillna('Rather not say')"
   ]
  },
  {
   "cell_type": "code",
   "execution_count": 113,
   "metadata": {},
   "outputs": [
    {
     "name": "stdout",
     "output_type": "stream",
     "text": [
      "Minimum Age: 18\n",
      "Maximum Age: 65\n",
      "Outliers in Age column:\n",
      "Series([], Name: Age, dtype: int64)\n"
     ]
    }
   ],
   "source": [
    "min_age = df['Age'].min()\n",
    "max_age = df['Age'].max()\n",
    "print(f\"Minimum Age: {min_age}\")\n",
    "print(f\"Maximum Age: {max_age}\")\n",
    "Q1 = df['Age'].quantile(0.25)\n",
    "Q3 = df['Age'].quantile(0.75)\n",
    "IQR = Q3 - Q1\n",
    "lower_bound = Q1 - 1.5 * IQR\n",
    "upper_bound = Q3 + 1.5 * IQR\n",
    "outliers = df[(df['Age'] < lower_bound) | (df['Age'] > upper_bound)]\n",
    "print(\"Outliers in Age column:\")\n",
    "print(outliers['Age'])"
   ]
  },
  {
   "cell_type": "code",
   "execution_count": 114,
   "metadata": {},
   "outputs": [
    {
     "name": "stdout",
     "output_type": "stream",
     "text": [
      "Minimum Income: 377.7\n",
      "Maximum Income: 1777460.21\n",
      "count    25424.000000\n",
      "mean      2473.136938\n",
      "std       1120.844662\n",
      "min        377.700000\n",
      "25%       1650.457500\n",
      "50%       2222.435000\n",
      "75%       3090.592500\n",
      "max       5250.795000\n",
      "Name: Income (USD), dtype: float64\n"
     ]
    }
   ],
   "source": [
    "# Check for minimum and maximum values in the Income (USD) column\n",
    "min_income = df['Income (USD)'].min()\n",
    "max_income = df['Income (USD)'].max()\n",
    "\n",
    "# Display the results\n",
    "print(f\"Minimum Income: {min_income}\")\n",
    "print(f\"Maximum Income: {max_income}\")\n",
    "# Calculate the first and third quartiles (Q1 and Q3)\n",
    "Q1 = df['Income (USD)'].quantile(0.25)\n",
    "Q3 = df['Income (USD)'].quantile(0.75)\n",
    "\n",
    "# Calculate the IQR\n",
    "IQR = Q3 - Q1\n",
    "\n",
    "# Define the lower and upper bounds for outliers\n",
    "lower_bound = Q1 - 1.5 * IQR\n",
    "upper_bound = Q3 + 1.5 * IQR\n",
    "\n",
    "# Cap the outliers\n",
    "df['Income (USD)'] = np.where(df['Income (USD)'] > upper_bound, upper_bound, df['Income (USD)'])\n",
    "df['Income (USD)'] = np.where(df['Income (USD)'] < lower_bound, lower_bound, df['Income (USD)'])\n",
    "\n",
    "# Verify the changes\n",
    "print(df['Income (USD)'].describe())"
   ]
  },
  {
   "cell_type": "code",
   "execution_count": 115,
   "metadata": {},
   "outputs": [
    {
     "name": "stdout",
     "output_type": "stream",
     "text": [
      "0\n"
     ]
    }
   ],
   "source": [
    "from sklearn.preprocessing import LabelEncoder\n",
    "from sklearn.impute import KNNImputer\n",
    "\n",
    "features = ['Age', 'Income Stability', 'Profession', 'Type of Employment', 'Location', 'Loan Amount Request (USD)', 'Current Loan Expenses (USD)', 'Dependents', 'Credit Score', 'Property Price', 'Income (USD)']\n",
    "df_impute = df[features]\n",
    "\n",
    "df_impute = pd.get_dummies(df_impute, columns=['Profession', 'Type of Employment', 'Location'], drop_first=True)\n",
    "\n",
    "label_encoder = LabelEncoder()\n",
    "df_impute['Income Stability'] = label_encoder.fit_transform(df_impute['Income Stability'])\n",
    "\n",
    "imputer = KNNImputer(n_neighbors=5)\n",
    "\n",
    "df_impute = pd.DataFrame(imputer.fit_transform(df_impute), columns=df_impute.columns)\n",
    "\n",
    "df['Income (USD)'] = df_impute['Income (USD)']\n",
    "\n",
    "print(df['Income (USD)'].isnull().sum()) "
   ]
  },
  {
   "cell_type": "code",
   "execution_count": 116,
   "metadata": {},
   "outputs": [
    {
     "name": "stdout",
     "output_type": "stream",
     "text": [
      "0\n"
     ]
    }
   ],
   "source": [
    "mode_income_stability = df['Income Stability'].mode()[0]\n",
    "\n",
    "# Impute missing values with the mode\n",
    "df['Income Stability'] = df['Income Stability'].fillna(mode_income_stability)\n",
    "\n",
    "# Verify the result\n",
    "print(df['Income Stability'].isnull().sum())  "
   ]
  },
  {
   "cell_type": "code",
   "execution_count": 117,
   "metadata": {},
   "outputs": [
    {
     "name": "stdout",
     "output_type": "stream",
     "text": [
      "0\n"
     ]
    }
   ],
   "source": [
    "df['Type of Employment'] = df['Type of Employment'].fillna('Unknown')\n",
    "\n",
    "# Verify the result\n",
    "print(df['Type of Employment'].isnull().sum())\n"
   ]
  },
  {
   "cell_type": "code",
   "execution_count": 118,
   "metadata": {},
   "outputs": [
    {
     "name": "stdout",
     "output_type": "stream",
     "text": [
      "Replaced negative values with median in 'Current Loan Expenses (USD)':\n",
      "0        241.08\n",
      "1        495.81\n",
      "2        171.95\n",
      "3        298.54\n",
      "4        491.41\n",
      "          ...  \n",
      "29995    722.34\n",
      "29996    253.04\n",
      "29997    583.11\n",
      "29998    378.29\n",
      "29999    693.94\n",
      "Name: Current Loan Expenses (USD), Length: 30000, dtype: float64\n"
     ]
    }
   ],
   "source": [
    "\n",
    "# Calculate the median of non-negative values in 'Current Loan Expenses (USD)'\n",
    "median_expenses = df[df['Current Loan Expenses (USD)'] >= 0]['Current Loan Expenses (USD)'].median()\n",
    "\n",
    "# Replace negative values with the median\n",
    "df.loc[df['Current Loan Expenses (USD)'] < 0, 'Current Loan Expenses (USD)'] = median_expenses\n",
    "\n",
    "# Optionally, print the result to verify\n",
    "print(\"Replaced negative values with median in 'Current Loan Expenses (USD)':\")\n",
    "print(df['Current Loan Expenses (USD)'])\n",
    "\n"
   ]
  },
  {
   "cell_type": "code",
   "execution_count": 119,
   "metadata": {},
   "outputs": [
    {
     "name": "stdout",
     "output_type": "stream",
     "text": [
      "Minimum expenses: 33.76\n",
      "Maximum expenses: 3840.88\n"
     ]
    },
    {
     "data": {
      "image/png": "[encoded data removed]",
      "text/plain": [
       "<Figure size 1000x600 with 1 Axes>"
      ]
     },
     "metadata": {},
     "output_type": "display_data"
    },
    {
     "name": "stdout",
     "output_type": "stream",
     "text": [
      "0        241.08\n",
      "1        495.81\n",
      "2        171.95\n",
      "3        298.54\n",
      "4        491.41\n",
      "          ...  \n",
      "29995    722.34\n",
      "29996    253.04\n",
      "29997    583.11\n",
      "29998    378.29\n",
      "29999    693.94\n",
      "Name: Current Loan Expenses (USD), Length: 30000, dtype: float64\n"
     ]
    }
   ],
   "source": [
    "# Check for minimum and maximum values in the Income (USD) column\n",
    "min_expenses = df['Current Loan Expenses (USD)'].min()\n",
    "max_expenses = df['Current Loan Expenses (USD)'].max()\n",
    "\n",
    "# Display the results\n",
    "print(f\"Minimum expenses: {min_expenses}\")\n",
    "print(f\"Maximum expenses: {max_expenses}\")\n",
    "\n",
    "# Calculate Q1, Q3, and IQR\n",
    "Q1 = df['Current Loan Expenses (USD)'].quantile(0.25)\n",
    "Q3 = df['Current Loan Expenses (USD)'].quantile(0.75)\n",
    "IQR = Q3 - Q1\n",
    "\n",
    "# Identify outliers\n",
    "lower_bound = Q1 - 1.5 * IQR\n",
    "upper_bound = Q3 + 1.5 * IQR\n",
    "\n",
    "plt.figure(figsize=(10, 6))\n",
    "df.boxplot(column='Current Loan Expenses (USD)')\n",
    "plt.title('Box Plot for Loan Amount Request')\n",
    "plt.show()\n",
    "\n",
    "# Replace outliers with upper or lower bound\n",
    "df['Current Loan Expenses (USD)'] = np.where(\n",
    "    df['Current Loan Expenses (USD)'] < lower_bound, lower_bound,\n",
    "    np.where(df['Current Loan Expenses (USD)'] > upper_bound, upper_bound, df['Current Loan Expenses (USD)'])\n",
    ")\n",
    "\n",
    "print(df['Current Loan Expenses (USD)'])\n"
   ]
  },
  {
   "cell_type": "code",
   "execution_count": 120,
   "metadata": {},
   "outputs": [],
   "source": [
    "from sklearn.impute import SimpleImputer\n",
    "\n",
    "# Initialize SimpleImputer with strategy='median'\n",
    "imputer = SimpleImputer(strategy='median')\n",
    "\n",
    "# Perform imputation on 'Current Loan Expenses (USD)'\n",
    "df['Current Loan Expenses (USD)'] = imputer.fit_transform(df[['Current Loan Expenses (USD)']])"
   ]
  },
  {
   "cell_type": "code",
   "execution_count": 121,
   "metadata": {},
   "outputs": [
    {
     "name": "stdout",
     "output_type": "stream",
     "text": [
      "Index(['Customer ID', 'Name', 'Gender', 'Age', 'Income (USD)',\n",
      "       'Income Stability', 'Profession', 'Type of Employment', 'Location',\n",
      "       'Loan Amount Request (USD)', 'Current Loan Expenses (USD)',\n",
      "       'Dependents', 'Credit Score', 'No. of Defaults',\n",
      "       'Has Active Credit Card', 'Property ID', 'Property Age',\n",
      "       'Property Type', 'Property Location', 'Co-Applicant', 'Property Price',\n",
      "       'Loan Sanction Amount (USD)'],\n",
      "      dtype='object')\n"
     ]
    }
   ],
   "source": [
    "\n",
    "# Remove the columns 'Expense Type 1' and 'Expense Type 2'\n",
    "df.drop(columns=['Expense Type 1', 'Expense Type 2'], inplace=True)\n",
    "\n",
    "# Verify the result\n",
    "print(df.columns)"
   ]
  },
  {
   "cell_type": "code",
   "execution_count": 122,
   "metadata": {},
   "outputs": [
    {
     "name": "stdout",
     "output_type": "stream",
     "text": [
      "Number of outliers: 752\n",
      "Outliers:\n",
      "       Customer ID                Name Gender  Age  Income (USD)  \\\n",
      "7         C-11006    Clarinda Montana      F   45      3875.200   \n",
      "87        C-27965    Jacklyn Jiggetts      F   61      3831.374   \n",
      "141        C-4177        Xenia Rikard      F   42      2462.090   \n",
      "164       C-46327  Minerva Straughter      M   38      2021.120   \n",
      "199       C-48323       Julius Gitlin      M   22      5250.795   \n",
      "...           ...                 ...    ...  ...           ...   \n",
      "29800     C-44956             Ha Than      M   56      3697.990   \n",
      "29811     C-14535    Leslie Cranfield      F   22      5002.090   \n",
      "29833     C-16567     Marvella Devita      M   60      5250.795   \n",
      "29904      C-5271      Londa Eisenman      M   60      5250.795   \n",
      "29918      C-9504           Alaina Au      F   64      3483.690   \n",
      "\n",
      "      Income Stability            Profession     Type of Employment  \\\n",
      "7                  Low         State servant               Managers   \n",
      "87                High             Pensioner                Unknown   \n",
      "141                Low               Working          Realty agents   \n",
      "164                Low               Working            Sales staff   \n",
      "199                Low  Commercial associate  High skill tech staff   \n",
      "...                ...                   ...                    ...   \n",
      "29800              Low               Working                Unknown   \n",
      "29811              Low               Working            Accountants   \n",
      "29833             High             Pensioner                Unknown   \n",
      "29904              Low  Commercial associate             Core staff   \n",
      "29918             High             Pensioner                Unknown   \n",
      "\n",
      "         Location  Loan Amount Request (USD)  ...  Credit Score  \\\n",
      "7      Semi-Urban                  240311.77  ...        812.26   \n",
      "87          Urban                  258359.02  ...        791.54   \n",
      "141         Rural                  262719.40  ...        798.13   \n",
      "164    Semi-Urban                  281022.99  ...        677.18   \n",
      "199         Urban                  278598.47  ...        804.33   \n",
      "...           ...                        ...  ...           ...   \n",
      "29800       Urban                  241941.44  ...        709.41   \n",
      "29811       Urban                  258030.61  ...        717.02   \n",
      "29833  Semi-Urban                  258810.42  ...        656.11   \n",
      "29904       Urban                  281341.55  ...        791.53   \n",
      "29918       Urban                  281390.10  ...        839.65   \n",
      "\n",
      "       No. of Defaults  Has Active Credit Card  Property ID Property Age  \\\n",
      "7                    0                  Active          314          NaN   \n",
      "87                   0                  Active          673          NaN   \n",
      "141                  0                  Active          643      2462.09   \n",
      "164                  0             Unpossessed          213      2021.12   \n",
      "199                  1                Inactive          172      8556.16   \n",
      "...                ...                     ...          ...          ...   \n",
      "29800                0                  Active          667      3697.99   \n",
      "29811                0             Unpossessed          345      5002.09   \n",
      "29833                0                Inactive          411      7074.18   \n",
      "29904                1                  Active          472      6685.40   \n",
      "29918                0                  Active          318      3483.69   \n",
      "\n",
      "       Property Type  Property Location  Co-Applicant Property Price  \\\n",
      "7                  2              Urban             1      401040.70   \n",
      "87                 2              Rural             1      437535.71   \n",
      "141                4              Rural             1      336636.40   \n",
      "164                4              Urban             0      519776.20   \n",
      "199                2              Urban             0      485963.49   \n",
      "...              ...                ...           ...            ...   \n",
      "29800              1              Urban             1      317434.55   \n",
      "29811              2         Semi-Urban             1      451889.33   \n",
      "29833              2              Rural             0      371981.50   \n",
      "29904              3              Rural             1      498738.14   \n",
      "29918              4         Semi-Urban             0      323671.90   \n",
      "\n",
      "       Loan Sanction Amount (USD)  \n",
      "7                       168218.24  \n",
      "87                      193769.26  \n",
      "141                     183903.58  \n",
      "164                          0.00  \n",
      "199                          0.00  \n",
      "...                           ...  \n",
      "29800                        0.00  \n",
      "29811                   180621.43  \n",
      "29833                   181167.29  \n",
      "29904                   211006.16  \n",
      "29918                   225112.08  \n",
      "\n",
      "[752 rows x 22 columns]\n"
     ]
    },
    {
     "data": {
      "image/png": "[encoded data removed]",
      "text/plain": [
       "<Figure size 1000x600 with 1 Axes>"
      ]
     },
     "metadata": {},
     "output_type": "display_data"
    },
    {
     "name": "stdout",
     "output_type": "stream",
     "text": [
      "count     30000.000000\n",
      "mean      87817.437653\n",
      "std       56222.583017\n",
      "min        6048.240000\n",
      "25%       41177.755000\n",
      "50%       75128.075000\n",
      "75%      119964.605000\n",
      "max      238144.880000\n",
      "Name: Loan Amount Request (USD), dtype: float64\n"
     ]
    }
   ],
   "source": [
    "Q1 = df['Loan Amount Request (USD)'].quantile(0.25)\n",
    "Q3 = df['Loan Amount Request (USD)'].quantile(0.75)\n",
    "IQR = Q3 - Q1\n",
    "\n",
    "lower_bound = Q1 - 1.5 * IQR\n",
    "upper_bound = Q3 + 1.5 * IQR\n",
    "\n",
    "outliers = df[(df['Loan Amount Request (USD)'] < lower_bound) | (df['Loan Amount Request (USD)'] > upper_bound)]\n",
    "print(\"Number of outliers:\", outliers.shape[0])\n",
    "print(\"Outliers:\\n\", outliers)\n",
    "\n",
    "plt.figure(figsize=(10, 6))\n",
    "df.boxplot(column='Loan Amount Request (USD)')\n",
    "plt.title('Box Plot for Loan Amount Request')\n",
    "plt.show()\n",
    "\n",
    "df['Loan Amount Request (USD)'] = np.where(df['Loan Amount Request (USD)'] > upper_bound, upper_bound, df['Loan Amount Request (USD)'])\n",
    "df['Loan Amount Request (USD)'] = np.where(df['Loan Amount Request (USD)'] < lower_bound, lower_bound, df['Loan Amount Request (USD)'])\n",
    "\n",
    "print(df['Loan Amount Request (USD)'].describe())"
   ]
  },
  {
   "cell_type": "code",
   "execution_count": 123,
   "metadata": {},
   "outputs": [
    {
     "name": "stdout",
     "output_type": "stream",
     "text": [
      "0\n"
     ]
    }
   ],
   "source": [
    "median_dependents = df['Dependents'].median()\n",
    "\n",
    "# Fill null values in the 'Dependents' column with the median\n",
    "df['Dependents'] = df['Dependents'].fillna(median_dependents)\n",
    "\n",
    "# Verify the result\n",
    "print(df['Dependents'].isnull().sum())  # Should output 0"
   ]
  },
  {
   "cell_type": "code",
   "execution_count": 124,
   "metadata": {},
   "outputs": [
    {
     "name": "stdout",
     "output_type": "stream",
     "text": [
      "Minimum score: 580.0\n",
      "Maximum score: 896.26\n",
      "Potential outliers:\n",
      "Empty DataFrame\n",
      "Columns: [Customer ID, Name, Gender, Age, Income (USD), Income Stability, Profession, Type of Employment, Location, Loan Amount Request (USD), Current Loan Expenses (USD), Dependents, Credit Score, No. of Defaults, Has Active Credit Card, Property ID, Property Age, Property Type, Property Location, Co-Applicant, Property Price, Loan Sanction Amount (USD)]\n",
      "Index: []\n",
      "\n",
      "[0 rows x 22 columns]\n"
     ]
    }
   ],
   "source": [
    "# Check for minimum and maximum values in the Income (USD) column\n",
    "min_score = df['Credit Score'].min()\n",
    "max_score= df['Credit Score'].max()\n",
    "\n",
    "# Display the results\n",
    "print(f\"Minimum score: {min_score}\")\n",
    "print(f\"Maximum score: {max_score}\")\n",
    "\n",
    "Q1 = df['Credit Score'].quantile(0.25)\n",
    "Q3 = df['Credit Score'].quantile(0.75)\n",
    "IQR = Q3 - Q1\n",
    "\n",
    "# Determine the bounds for outliers\n",
    "lower_bound = Q1 - 1.5 * IQR\n",
    "upper_bound = Q3 + 1.5 * IQR\n",
    "\n",
    "# Identify outliers\n",
    "outliers = df[(df['Credit Score'] < lower_bound) | (df['Credit Score'] > upper_bound)]\n",
    "\n",
    "# Print outliers\n",
    "print(\"Potential outliers:\")\n",
    "print(outliers)"
   ]
  },
  {
   "cell_type": "code",
   "execution_count": 125,
   "metadata": {},
   "outputs": [],
   "source": [
    "median_score = df['Credit Score'].median()\n",
    "\n",
    "# Impute missing values with the median\n",
    "df['Credit Score'] = df['Credit Score'].fillna(median_score)\n"
   ]
  },
  {
   "cell_type": "code",
   "execution_count": 126,
   "metadata": {},
   "outputs": [],
   "source": [
    "# Replace missing values with a new category\n",
    "df['Has Active Credit Card'] = df['Has Active Credit Card'].fillna('Unknown')"
   ]
  },
  {
   "cell_type": "code",
   "execution_count": 127,
   "metadata": {},
   "outputs": [
    {
     "name": "stdout",
     "output_type": "stream",
     "text": [
      "Outliers in 'Property Age':\n",
      "1105\n"
     ]
    }
   ],
   "source": [
    "import pandas as pd\n",
    "\n",
    "# Assuming df is your DataFrame\n",
    "# Calculate Q1, Q3, and IQR for 'Property Age'\n",
    "Q1 = df['Property Age'].quantile(0.25)\n",
    "Q3 = df['Property Age'].quantile(0.75)\n",
    "IQR = Q3 - Q1\n",
    "\n",
    "# Determine the bounds for outliers\n",
    "lower_bound = Q1 - 1.5 * IQR\n",
    "upper_bound = Q3 + 1.5 * IQR\n",
    "\n",
    "# Identify outliers\n",
    "outliers = df[(df['Property Age'] < lower_bound) | (df['Property Age'] > upper_bound)]\n",
    "\n",
    "# Print outliers\n",
    "print(\"Outliers in 'Property Age':\")\n",
    "print(outliers.shape[0])"
   ]
  },
  {
   "cell_type": "code",
   "execution_count": 128,
   "metadata": {},
   "outputs": [
    {
     "name": "stdout",
     "output_type": "stream",
     "text": [
      "Correlation matrix for numeric columns:\n",
      "                                  Age  Income (USD)  \\\n",
      "Age                          1.000000     -0.044127   \n",
      "Income (USD)                -0.044127      1.000000   \n",
      "Loan Amount Request (USD)   -0.010068      0.431909   \n",
      "Current Loan Expenses (USD) -0.027039      0.481015   \n",
      "Dependents                  -0.079574      0.000981   \n",
      "Credit Score                 0.125900      0.098338   \n",
      "No. of Defaults              0.003573      0.003424   \n",
      "Property ID                 -0.012358     -0.005897   \n",
      "Property Age                -0.010341      0.133480   \n",
      "Property Type                0.002196      0.004878   \n",
      "Co-Applicant                 0.000632     -0.000680   \n",
      "Property Price              -0.009819      0.410839   \n",
      "Loan Sanction Amount (USD)   0.008112      0.316574   \n",
      "\n",
      "                             Loan Amount Request (USD)  \\\n",
      "Age                                          -0.010068   \n",
      "Income (USD)                                  0.431909   \n",
      "Loan Amount Request (USD)                     1.000000   \n",
      "Current Loan Expenses (USD)                   0.778331   \n",
      "Dependents                                    0.042216   \n",
      "Credit Score                                  0.173642   \n",
      "No. of Defaults                              -0.000799   \n",
      "Property ID                                  -0.009678   \n",
      "Property Age                                  0.049101   \n",
      "Property Type                                 0.003333   \n",
      "Co-Applicant                                  0.001924   \n",
      "Property Price                                0.936358   \n",
      "Loan Sanction Amount (USD)                    0.717875   \n",
      "\n",
      "                             Current Loan Expenses (USD)  Dependents  \\\n",
      "Age                                            -0.027039   -0.079574   \n",
      "Income (USD)                                    0.481015    0.000981   \n",
      "Loan Amount Request (USD)                       0.778331    0.042216   \n",
      "Current Loan Expenses (USD)                     1.000000    0.050832   \n",
      "Dependents                                      0.050832    1.000000   \n",
      "Credit Score                                    0.116687   -0.083628   \n",
      "No. of Defaults                                 0.000645    0.008420   \n",
      "Property ID                                    -0.008600    0.001881   \n",
      "Property Age                                    0.057470    0.005098   \n",
      "Property Type                                   0.013710   -0.008387   \n",
      "Co-Applicant                                   -0.001130    0.003115   \n",
      "Property Price                                  0.733577    0.035983   \n",
      "Loan Sanction Amount (USD)                      0.549709    0.004788   \n",
      "\n",
      "                             Credit Score  No. of Defaults  Property ID  \\\n",
      "Age                              0.125900         0.003573    -0.012358   \n",
      "Income (USD)                     0.098338         0.003424    -0.005897   \n",
      "Loan Amount Request (USD)        0.173642        -0.000799    -0.009678   \n",
      "Current Loan Expenses (USD)      0.116687         0.000645    -0.008600   \n",
      "Dependents                      -0.083628         0.008420     0.001881   \n",
      "Credit Score                     1.000000         0.006453    -0.005889   \n",
      "No. of Defaults                  0.006453         1.000000    -0.001282   \n",
      "Property ID                     -0.005889        -0.001282     1.000000   \n",
      "Property Age                     0.012953        -0.002093    -0.008075   \n",
      "Property Type                    0.008850         0.000477     0.008658   \n",
      "Co-Applicant                     0.009205        -0.008191     0.008151   \n",
      "Property Price                   0.166007         0.001718    -0.011890   \n",
      "Loan Sanction Amount (USD)       0.359701        -0.004330    -0.009751   \n",
      "\n",
      "                             Property Age  Property Type  Co-Applicant  \\\n",
      "Age                             -0.010341       0.002196      0.000632   \n",
      "Income (USD)                     0.133480       0.004878     -0.000680   \n",
      "Loan Amount Request (USD)        0.049101       0.003333      0.001924   \n",
      "Current Loan Expenses (USD)      0.057470       0.013710     -0.001130   \n",
      "Dependents                       0.005098      -0.008387      0.003115   \n",
      "Credit Score                     0.012953       0.008850      0.009205   \n",
      "No. of Defaults                 -0.002093       0.000477     -0.008191   \n",
      "Property ID                     -0.008075       0.008658      0.008151   \n",
      "Property Age                     1.000000       0.009798      0.000472   \n",
      "Property Type                    0.009798       1.000000     -0.001105   \n",
      "Co-Applicant                     0.000472      -0.001105      1.000000   \n",
      "Property Price                   0.050306       0.003279      0.005792   \n",
      "Loan Sanction Amount (USD)       0.037796       0.001984     -0.006945   \n",
      "\n",
      "                             Property Price  Loan Sanction Amount (USD)  \n",
      "Age                               -0.009819                    0.008112  \n",
      "Income (USD)                       0.410839                    0.316574  \n",
      "Loan Amount Request (USD)          0.936358                    0.717875  \n",
      "Current Loan Expenses (USD)        0.733577                    0.549709  \n",
      "Dependents                         0.035983                    0.004788  \n",
      "Credit Score                       0.166007                    0.359701  \n",
      "No. of Defaults                    0.001718                   -0.004330  \n",
      "Property ID                       -0.011890                   -0.009751  \n",
      "Property Age                       0.050306                    0.037796  \n",
      "Property Type                      0.003279                    0.001984  \n",
      "Co-Applicant                       0.005792                   -0.006945  \n",
      "Property Price                     1.000000                    0.687181  \n",
      "Loan Sanction Amount (USD)         0.687181                    1.000000  \n"
     ]
    }
   ],
   "source": [
    "numeric_df = df.select_dtypes(include=[float, int])\n",
    "\n",
    "# Check correlation of numeric columns\n",
    "correlation_matrix = numeric_df.corr()\n",
    "\n",
    "# Print the correlation matrix\n",
    "print(\"Correlation matrix for numeric columns:\")\n",
    "print(correlation_matrix)"
   ]
  },
  {
   "cell_type": "code",
   "execution_count": 129,
   "metadata": {},
   "outputs": [
    {
     "name": "stdout",
     "output_type": "stream",
     "text": [
      "DataFrame after removing 'Property Age':\n",
      "  Customer ID               Name Gender  Age  Income (USD) Income Stability  \\\n",
      "0     C-36995   Frederica Shealy      F   56      1933.050              Low   \n",
      "1     C-33999  America Calderone      M   32      4952.910              Low   \n",
      "2      C-3770      Rosetta Verne      F   65       988.190             High   \n",
      "3     C-26480         Zoe Chitty      F   65      2597.666             High   \n",
      "4     C-23459       Afton Venema      F   31      2614.770              Low   \n",
      "\n",
      "  Profession     Type of Employment    Location  Loan Amount Request (USD)  \\\n",
      "0    Working            Sales staff  Semi-Urban                   72809.58   \n",
      "1    Working                Unknown  Semi-Urban                   46837.47   \n",
      "2  Pensioner                Unknown  Semi-Urban                   45593.04   \n",
      "3  Pensioner                Unknown       Rural                   80057.92   \n",
      "4    Working  High skill tech staff  Semi-Urban                  113858.89   \n",
      "\n",
      "   ...  Dependents  Credit Score  No. of Defaults  Has Active Credit Card  \\\n",
      "0  ...         3.0        809.44                0                 Unknown   \n",
      "1  ...         1.0        780.40                0             Unpossessed   \n",
      "2  ...         1.0        833.15                0             Unpossessed   \n",
      "3  ...         2.0        832.70                1             Unpossessed   \n",
      "4  ...         2.0        745.55                1                  Active   \n",
      "\n",
      "  Property ID  Property Type  Property Location Co-Applicant  Property Price  \\\n",
      "0         746              4              Rural            1       119933.46   \n",
      "1         608              2              Rural            1        54791.00   \n",
      "2         546              2              Urban            0        72440.58   \n",
      "3         890              2         Semi-Urban            1       121441.51   \n",
      "4         715              4         Semi-Urban            1       208567.91   \n",
      "\n",
      "   Loan Sanction Amount (USD)  \n",
      "0                    54607.18  \n",
      "1                    37469.98  \n",
      "2                    36474.43  \n",
      "3                    56040.54  \n",
      "4                    74008.28  \n",
      "\n",
      "[5 rows x 21 columns]\n"
     ]
    }
   ],
   "source": [
    "# Drop the 'Property Age' column from the DataFrame\n",
    "df = df.drop(columns=['Property Age'])\n",
    "\n",
    "# Optionally, print the DataFrame to verify\n",
    "print(\"DataFrame after removing 'Property Age':\")\n",
    "print(df.head())\n"
   ]
  },
  {
   "cell_type": "code",
   "execution_count": 130,
   "metadata": {},
   "outputs": [
    {
     "name": "stdout",
     "output_type": "stream",
     "text": [
      "DataFrame with labeled 'Property Type' column:\n",
      "       Property Type\n",
      "0               Land\n",
      "1  Multi-family Home\n",
      "2  Multi-family Home\n",
      "3  Multi-family Home\n",
      "4               Land\n"
     ]
    }
   ],
   "source": [
    "property_type_mapping = {\n",
    "    1: 'Single-family Home',\n",
    "    2: 'Multi-family Home',\n",
    "    3: 'Commercial Property',\n",
    "    4: 'Land'\n",
    "}\n",
    "\n",
    "df['Property Type'] = df['Property Type'].map(property_type_mapping)\n",
    "\n",
    "print(\"DataFrame with labeled 'Property Type' column:\")\n",
    "print(df[['Property Type']].head())"
   ]
  },
  {
   "cell_type": "code",
   "execution_count": 131,
   "metadata": {},
   "outputs": [
    {
     "name": "stdout",
     "output_type": "stream",
     "text": [
      "DataFrame after mode imputation:\n",
      "Property Location\n",
      "Semi-Urban    10743\n",
      "Rural         10041\n",
      "Urban          9216\n",
      "Name: count, dtype: int64\n"
     ]
    },
    {
     "name": "stderr",
     "output_type": "stream",
     "text": [
      "C:\\Users\\Admin\\AppData\\Local\\Temp\\ipykernel_17608\\2978195186.py:4: FutureWarning: A value is trying to be set on a copy of a DataFrame or Series through chained assignment using an inplace method.\n",
      "The behavior will change in pandas 3.0. This inplace method will never work because the intermediate object on which we are setting values always behaves as a copy.\n",
      "\n",
      "For example, when doing 'df[col].method(value, inplace=True)', try using 'df.method({col: value}, inplace=True)' or df[col] = df[col].method(value) instead, to perform the operation inplace on the original object.\n",
      "\n",
      "\n",
      "  df['Property Location'].fillna(mode_location, inplace=True)\n"
     ]
    }
   ],
   "source": [
    "\n",
    "mode_location = df['Property Location'].mode()[0]\n",
    "\n",
    "# Fill missing values with the mode\n",
    "df['Property Location'].fillna(mode_location, inplace=True)\n",
    "\n",
    "# Optionally, print the DataFrame to verify\n",
    "print(\"DataFrame after mode imputation:\")\n",
    "print(df['Property Location'].value_counts())\n"
   ]
  },
  {
   "cell_type": "code",
   "execution_count": 132,
   "metadata": {},
   "outputs": [
    {
     "name": "stdout",
     "output_type": "stream",
     "text": [
      "DataFrame after replacing -999 with NaN in 'Co-Applicant' column:\n",
      "Co-Applicant\n",
      "1       25516\n",
      "0        4316\n",
      "<NA>      168\n",
      "Name: count, dtype: int64\n"
     ]
    }
   ],
   "source": [
    "\n",
    "df['Co-Applicant'] = df['Co-Applicant'].replace(-999, pd.NA)\n",
    "\n",
    "# Optionally, print the DataFrame to verify\n",
    "print(\"DataFrame after replacing -999 with NaN in 'Co-Applicant' column:\")\n",
    "print(df['Co-Applicant'].value_counts(dropna=False))\n"
   ]
  },
  {
   "cell_type": "code",
   "execution_count": 133,
   "metadata": {},
   "outputs": [
    {
     "name": "stdout",
     "output_type": "stream",
     "text": [
      "DataFrame after mode imputation in 'Co-Applicant' column:\n",
      "Co-Applicant\n",
      "1    25684\n",
      "0     4316\n",
      "Name: count, dtype: int64\n"
     ]
    },
    {
     "name": "stderr",
     "output_type": "stream",
     "text": [
      "C:\\Users\\Admin\\AppData\\Local\\Temp\\ipykernel_17608\\2736544486.py:4: FutureWarning: Downcasting object dtype arrays on .fillna, .ffill, .bfill is deprecated and will change in a future version. Call result.infer_objects(copy=False) instead. To opt-in to the future behavior, set `pd.set_option('future.no_silent_downcasting', True)`\n",
      "  df['Co-Applicant'] = df['Co-Applicant'].fillna(mode_co_applicant)\n"
     ]
    }
   ],
   "source": [
    "\n",
    "mode_co_applicant = df['Co-Applicant'].mode()[0]\n",
    "\n",
    "# Fill missing values with the mode using assignment\n",
    "df['Co-Applicant'] = df['Co-Applicant'].fillna(mode_co_applicant)\n",
    "\n",
    "# Optionally, print the DataFrame to verify\n",
    "print(\"DataFrame after mode imputation in 'Co-Applicant' column:\")\n",
    "print(df['Co-Applicant'].value_counts())\n"
   ]
  },
  {
   "cell_type": "code",
   "execution_count": 134,
   "metadata": {},
   "outputs": [
    {
     "name": "stdout",
     "output_type": "stream",
     "text": [
      "Unique values in 'Co-Applicant' column:\n",
      "[1 0]\n"
     ]
    }
   ],
   "source": [
    "# Assuming df is your DataFrame\n",
    "\n",
    "# Check unique values in the 'Co-Applicant' column\n",
    "unique_values = df['Co-Applicant'].unique()\n",
    "\n",
    "# Print the unique values\n",
    "print(\"Unique values in 'Co-Applicant' column:\")\n",
    "print(unique_values)\n"
   ]
  },
  {
   "cell_type": "code",
   "execution_count": 135,
   "metadata": {},
   "outputs": [],
   "source": [
    "# Calculate median (or mean)\n",
    "median_price = df['Property Price'].median()\n",
    "\n",
    "# Replace negative values with median\n",
    "df['Property Price'] = df['Property Price'].apply(lambda x: median_price if x == -999 else x)\n"
   ]
  },
  {
   "cell_type": "code",
   "execution_count": 136,
   "metadata": {},
   "outputs": [
    {
     "name": "stdout",
     "output_type": "stream",
     "text": [
      "Potential outliers:\n",
      "       Property Price\n",
      "7           401040.70\n",
      "87          437535.71\n",
      "111         364087.25\n",
      "129         391691.70\n",
      "164         519776.20\n",
      "...               ...\n",
      "29706       356382.10\n",
      "29794       412897.31\n",
      "29811       451889.33\n",
      "29833       371981.50\n",
      "29904       498738.14\n",
      "\n",
      "[898 rows x 1 columns]\n"
     ]
    },
    {
     "data": {
      "image/png": "[encoded data removed]",
      "text/plain": [
       "<Figure size 800x600 with 1 Axes>"
      ]
     },
     "metadata": {},
     "output_type": "display_data"
    }
   ],
   "source": [
    "# Assuming df is your DataFrame\n",
    "Q1 = df['Property Price'].quantile(0.25)\n",
    "Q3 = df['Property Price'].quantile(0.75)\n",
    "IQR = Q3 - Q1\n",
    "# Calculate bounds for outliers\n",
    "lower_bound = Q1 - 1.5 * IQR\n",
    "upper_bound = Q3 + 1.5 * IQR\n",
    "# Identify outliers\n",
    "outliers = df[(df['Property Price'] < lower_bound) | (df['Property Price'] > upper_bound)]\n",
    "\n",
    "# Print outliers\n",
    "print(\"Potential outliers:\")\n",
    "print(outliers[['Property Price']])\n",
    "plt.figure(figsize=(8, 6))\n",
    "sns.boxplot(x=df['Property Price'])\n",
    "plt.title('Boxplot of Property Price')\n",
    "plt.xlabel('Property Price')\n",
    "plt.show()\n"
   ]
  },
  {
   "cell_type": "code",
   "execution_count": 137,
   "metadata": {},
   "outputs": [
    {
     "data": {
      "image/png": "[encoded data removed]",
      "text/plain": [
       "<Figure size 800x600 with 1 Axes>"
      ]
     },
     "metadata": {},
     "output_type": "display_data"
    }
   ],
   "source": [
    "from scipy.stats.mstats import winsorize\n",
    "\n",
    "# Winsorize at 95th percentile\n",
    "winsorized_prices = winsorize(df['Property Price'], limits=[0.05, 0.05])\n",
    "df['Property Price'] = winsorized_prices\n",
    "plt.figure(figsize=(8, 6))\n",
    "sns.boxplot(x=df['Property Price'])\n",
    "plt.title('Boxplot of Property Price')\n",
    "plt.xlabel('Property Price')\n",
    "plt.show()\n"
   ]
  },
  {
   "cell_type": "code",
   "execution_count": 138,
   "metadata": {},
   "outputs": [
    {
     "name": "stdout",
     "output_type": "stream",
     "text": [
      "      Customer ID               Name Gender  Age  Income (USD)  \\\n",
      "0         C-36995   Frederica Shealy      F   56      1933.050   \n",
      "1         C-33999  America Calderone      M   32      4952.910   \n",
      "2          C-3770      Rosetta Verne      F   65       988.190   \n",
      "3         C-26480         Zoe Chitty      F   65      2597.666   \n",
      "4         C-23459       Afton Venema      F   31      2614.770   \n",
      "...           ...                ...    ...  ...           ...   \n",
      "29995     C-43723  Angelyn Clevenger      M   38      4969.410   \n",
      "29996     C-32511       Silas Slaugh      M   20      1606.880   \n",
      "29997      C-5192       Carmelo Lone      F   49      4036.050   \n",
      "29998     C-12172      Carolann Osby      M   38      2417.710   \n",
      "29999     C-33003  Bridget Garibaldi      F   63      3068.240   \n",
      "\n",
      "      Income Stability            Profession     Type of Employment  \\\n",
      "0                  Low               Working            Sales staff   \n",
      "1                  Low               Working                Unknown   \n",
      "2                 High             Pensioner                Unknown   \n",
      "3                 High             Pensioner                Unknown   \n",
      "4                  Low               Working  High skill tech staff   \n",
      "...                ...                   ...                    ...   \n",
      "29995              Low  Commercial associate               Managers   \n",
      "29996              Low               Working               Laborers   \n",
      "29997              Low               Working            Sales staff   \n",
      "29998              Low               Working         Security staff   \n",
      "29999             High             Pensioner                Unknown   \n",
      "\n",
      "         Location  Loan Amount Request (USD)  ...  Dependents  Credit Score  \\\n",
      "0      Semi-Urban                   72809.58  ...         3.0        809.44   \n",
      "1      Semi-Urban                   46837.47  ...         1.0        780.40   \n",
      "2      Semi-Urban                   45593.04  ...         1.0        833.15   \n",
      "3           Rural                   80057.92  ...         2.0        832.70   \n",
      "4      Semi-Urban                  113858.89  ...         2.0        745.55   \n",
      "...           ...                        ...  ...         ...           ...   \n",
      "29995       Urban                   76657.90  ...         2.0        869.61   \n",
      "29996  Semi-Urban                   66595.14  ...         3.0        729.41   \n",
      "29997       Urban                   81410.08  ...         2.0        739.82   \n",
      "29998  Semi-Urban                  142524.10  ...         3.0        677.27   \n",
      "29999       Rural                  156290.54  ...         1.0        815.44   \n",
      "\n",
      "       No. of Defaults  Has Active Credit Card Property ID  \\\n",
      "0                    0                 Unknown         746   \n",
      "1                    0             Unpossessed         608   \n",
      "2                    0             Unpossessed         546   \n",
      "3                    1             Unpossessed         890   \n",
      "4                    1                  Active         715   \n",
      "...                ...                     ...         ...   \n",
      "29995                0             Unpossessed         566   \n",
      "29996                0                Inactive         175   \n",
      "29997                0                  Active         959   \n",
      "29998                1             Unpossessed         375   \n",
      "29999                0                  Active         344   \n",
      "\n",
      "             Property Type Property Location Co-Applicant  Property Price  \\\n",
      "0                     Land             Rural            1       119933.46   \n",
      "1        Multi-family Home             Rural            1        54791.00   \n",
      "2        Multi-family Home             Urban            0        72440.58   \n",
      "3        Multi-family Home        Semi-Urban            1       121441.51   \n",
      "4                     Land        Semi-Urban            1       208567.91   \n",
      "...                    ...               ...          ...             ...   \n",
      "29995                 Land             Urban            1       111096.56   \n",
      "29996  Commercial Property             Urban            1        73453.94   \n",
      "29997   Single-family Home             Rural            1       102108.02   \n",
      "29998                 Land             Urban            1       168194.47   \n",
      "29999  Commercial Property             Rural            1       194512.60   \n",
      "\n",
      "       Loan Sanction Amount (USD)  \n",
      "0                        54607.18  \n",
      "1                        37469.98  \n",
      "2                        36474.43  \n",
      "3                        56040.54  \n",
      "4                        74008.28  \n",
      "...                           ...  \n",
      "29995                    68992.11  \n",
      "29996                    46616.60  \n",
      "29997                    61057.56  \n",
      "29998                    99766.87  \n",
      "29999                   117217.90  \n",
      "\n",
      "[30000 rows x 21 columns]\n"
     ]
    }
   ],
   "source": [
    "import numpy as np\n",
    "\n",
    "df['Loan Sanction Amount (USD)'] = df['Loan Sanction Amount (USD)'].apply(lambda x: np.nan if x < 0 else x)\n",
    "\n",
    "median_loan_sanction = df['Loan Sanction Amount (USD)'].median()\n",
    "\n",
    "# Replace null values with median\n",
    "df['Loan Sanction Amount (USD)'] = df['Loan Sanction Amount (USD)'].fillna(median_loan_sanction)\n",
    "\n",
    "# Print updated DataFrame\n",
    "print(df)\n"
   ]
  },
  {
   "cell_type": "code",
   "execution_count": 139,
   "metadata": {},
   "outputs": [
    {
     "name": "stdout",
     "output_type": "stream",
     "text": [
      "Potential outliers:\n",
      "       Loan Sanction Amount (USD)\n",
      "87                      193769.26\n",
      "215                     218144.06\n",
      "247                     197685.17\n",
      "267                     187299.89\n",
      "285                     184930.53\n",
      "...                           ...\n",
      "29538                   200448.61\n",
      "29615                   218412.38\n",
      "29658                   251531.18\n",
      "29904                   211006.16\n",
      "29918                   225112.08\n",
      "\n",
      "[453 rows x 1 columns]\n"
     ]
    },
    {
     "data": {
      "image/png": "[encoded data removed]",
      "text/plain": [
       "<Figure size 800x600 with 1 Axes>"
      ]
     },
     "metadata": {},
     "output_type": "display_data"
    }
   ],
   "source": [
    "# Assuming df is your DataFrame\n",
    "Q1 = df['Loan Sanction Amount (USD)'].quantile(0.25)\n",
    "Q3 = df['Loan Sanction Amount (USD)'].quantile(0.75)\n",
    "IQR = Q3 - Q1\n",
    "# Calculate bounds for outliers\n",
    "lower_bound = Q1 - 1.5 * IQR\n",
    "upper_bound = Q3 + 1.5 * IQR\n",
    "# Identify outliers\n",
    "outliers = df[(df['Loan Sanction Amount (USD)'] < lower_bound) | (df['Loan Sanction Amount (USD)'] > upper_bound)]\n",
    "\n",
    "# Print outliers\n",
    "print(\"Potential outliers:\")\n",
    "print(outliers[['Loan Sanction Amount (USD)']])\n",
    "plt.figure(figsize=(8, 6))\n",
    "sns.boxplot(x=df['Loan Sanction Amount (USD)'])\n",
    "plt.title('Boxplot of Loan Sanction Amount (USD)')\n",
    "plt.xlabel('Loan Sanction Amount (USD)')\n",
    "plt.show()\n"
   ]
  },
  {
   "cell_type": "code",
   "execution_count": 140,
   "metadata": {},
   "outputs": [
    {
     "data": {
      "image/png": "[encoded data removed]",
      "text/plain": [
       "<Figure size 800x600 with 1 Axes>"
      ]
     },
     "metadata": {},
     "output_type": "display_data"
    }
   ],
   "source": [
    "from scipy.stats.mstats import winsorize\n",
    "\n",
    "# Winsorize at 95th percentile\n",
    "winsorized_amount = winsorize(df['Loan Sanction Amount (USD)'], limits=[0.05, 0.05])\n",
    "df['Loan Sanction Amount (USD)'] = winsorized_amount\n",
    "plt.figure(figsize=(8, 6))\n",
    "sns.boxplot(x=df['Loan Sanction Amount (USD)'])\n",
    "plt.title('Boxplot of Loan Sanction Amount (USD)')\n",
    "plt.xlabel('Loan Sanction Amount (USD)')\n",
    "plt.show()\n"
   ]
  },
  {
   "cell_type": "code",
   "execution_count": 141,
   "metadata": {},
   "outputs": [],
   "source": [
    "df.rename(columns={'Property Price': 'Property Price (USD)'}, inplace=True)"
   ]
  },
  {
   "cell_type": "code",
   "execution_count": 143,
   "metadata": {},
   "outputs": [],
   "source": [
    "df.to_csv('Loan2u.csv', index=False)"
   ]
  },
  {
   "cell_type": "code",
   "execution_count": null,
   "metadata": {},
   "outputs": [],
   "source": []
  }
 ],
 "metadata": {
  "kernelspec": {
   "display_name": "Python 3",
   "language": "python",
   "name": "python3"
  },
  "language_info": {
   "codemirror_mode": {
    "name": "ipython",
    "version": 3
   },
   "file_extension": ".py",
   "mimetype": "text/x-python",
   "name": "python",
   "nbconvert_exporter": "python",
   "pygments_lexer": "ipython3",
   "version": "3.11.4"
  }
 },
 "nbformat": 4,
 "nbformat_minor": 2
}
